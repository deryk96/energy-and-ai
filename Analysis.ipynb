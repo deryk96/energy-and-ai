{
 "cells": [
  {
   "cell_type": "code",
   "execution_count": null,
   "id": "initial_id",
   "metadata": {
    "ExecuteTime": {
     "end_time": "2024-11-19T02:02:27.160703Z",
     "start_time": "2024-11-19T02:02:26.582124Z"
    },
    "collapsed": true
   },
   "outputs": [],
   "source": [
    "# Import statements\n",
    "import numpy as np\n",
    "import pandas as pd\n",
    "import sqlite3"
   ]
  },
  {
   "cell_type": "code",
   "execution_count": null,
   "id": "d7b46effb5770b7b",
   "metadata": {
    "ExecuteTime": {
     "end_time": "2024-11-19T07:26:47.799109Z",
     "start_time": "2024-11-19T07:26:47.796793Z"
    },
    "collapsed": false
   },
   "outputs": [],
   "source": [
    "# Connecting to sqlite \n",
    "conn = sqlite3.connect('pudl_subset.sqlite')\n",
    "\n",
    "# Creating a cursor object using the cursor() method \n",
    "cursor = conn.cursor()"
   ]
  },
  {
   "cell_type": "code",
   "execution_count": null,
   "id": "58ea359f6fc325d5",
   "metadata": {
    "ExecuteTime": {
     "end_time": "2024-11-19T07:26:48.098635Z",
     "start_time": "2024-11-19T07:26:48.096101Z"
    },
    "collapsed": false
   },
   "outputs": [],
   "source": [
    "# Show all tables in database\n",
    "tables_query = \"\"\"SELECT name FROM sqlite_master  \n",
    "                  WHERE type='table';\"\"\"\n",
    "cursor.execute(tables_query)\n",
    "table_list = cursor.fetchall()\n",
    "print(table_list)"
   ]
  },
  {
   "cell_type": "markdown",
   "id": "c0cf497bb37c53fe",
   "metadata": {
    "collapsed": false
   },
   "source": [
    "### Database columns explained\n",
    "Descriptions from: https://data.catalyst.coop/pudl/out_ferc1__yearly_all_plants\n",
    "\n",
    "- report_year: \"Four-digit year in which the data was reported.\"\n",
    "- utility_id_ferc1: \"PUDL-assigned utility ID, identifying a FERC1 utility. This is an auto- incremented ID and is not expected to be stable from year to year.\"\n",
    "- utility_id_pudl: \"A manually assigned PUDL utility ID. May not be stable over time.\"\n",
    "- utility_name_ferc1: \"Name of the responding utility, as it is reported in FERC Form 1. For human readability only.\"\n",
    "- plant_id_pudl: \"A manually assigned PUDL plant ID. May not be constant over time.\"\n",
    "- plant_id_ferc1: \"Algorithmically assigned PUDL FERC Plant ID. WARNING: NOT STABLE BETWEEN PUDL DB INITIALIZATIONS.\"\n",
    "- plant_name_ferc1: \"Name of the plant, as reported to FERC. This is a freeform string, not guaranteed to be consistent across references to the same plant.\"\n",
    "- net_generation_mwh: \"Net electricity generation for the specified period in megawatt-hours (MWh).\"\n",
    "- fuel_cost_per_mwh: \"Derived from MCOE, a unit level value. Average fuel cost per MWh of heat content in nominal USD.\"\n",
    "- plant_type: \"Type of plant.\"\n",
    "- fuel_type: \"Type of fuel.\"\n",
    "- net_load_mwh: \"Net output for load (net generation - energy used for pumping) in megawatt- hours.\""
   ]
  },
  {
   "cell_type": "markdown",
   "id": "5262f3885f201b89",
   "metadata": {
    "collapsed": false
   },
   "source": [
    "### Import database into Pandas dataframe\n",
    "There is currently only one table in the database. This is how you import it into Pandas."
   ]
  },
  {
   "cell_type": "code",
   "execution_count": 97,
   "id": "8f4a1298eaca52fa",
   "metadata": {
    "ExecuteTime": {
     "end_time": "2024-11-19T07:26:51.800065Z",
     "start_time": "2024-11-19T07:26:51.417721Z"
    },
    "collapsed": false
   },
   "outputs": [],
   "source": [
    "pudl_yearly_df = pd.read_sql_query(\"SELECT * FROM yearly_plant_generation\", conn)"
   ]
  },
  {
   "cell_type": "markdown",
   "id": "487a978081b73eaa",
   "metadata": {
    "collapsed": false
   },
   "source": [
    "### Import monthly data into Pandas from database\n",
    "This is likely the data we will use the most"
   ]
  },
  {
   "cell_type": "code",
   "execution_count": 85,
   "id": "46485b31803d80ef",
   "metadata": {
    "ExecuteTime": {
     "end_time": "2024-11-19T07:26:58.330180Z",
     "start_time": "2024-11-19T07:26:58.311831Z"
    },
    "collapsed": false
   },
   "outputs": [
    {
     "data": {
      "text/html": [
       "<div>\n",
       "<style scoped>\n",
       "    .dataframe tbody tr th:only-of-type {\n",
       "        vertical-align: middle;\n",
       "    }\n",
       "\n",
       "    .dataframe tbody tr th {\n",
       "        vertical-align: top;\n",
       "    }\n",
       "\n",
       "    .dataframe thead th {\n",
       "        text-align: right;\n",
       "    }\n",
       "</style>\n",
       "<table border=\"1\" class=\"dataframe\">\n",
       "  <thead>\n",
       "    <tr style=\"text-align: right;\">\n",
       "      <th></th>\n",
       "      <th>report_date</th>\n",
       "      <th>state</th>\n",
       "      <th>SUM(net_generation_mwh)</th>\n",
       "    </tr>\n",
       "  </thead>\n",
       "  <tbody>\n",
       "    <tr>\n",
       "      <th>14399</th>\n",
       "      <td>2024-01-01</td>\n",
       "      <td>VT</td>\n",
       "      <td>NaN</td>\n",
       "    </tr>\n",
       "    <tr>\n",
       "      <th>14400</th>\n",
       "      <td>2024-01-01</td>\n",
       "      <td>WA</td>\n",
       "      <td>NaN</td>\n",
       "    </tr>\n",
       "    <tr>\n",
       "      <th>14401</th>\n",
       "      <td>2024-01-01</td>\n",
       "      <td>WI</td>\n",
       "      <td>NaN</td>\n",
       "    </tr>\n",
       "    <tr>\n",
       "      <th>14402</th>\n",
       "      <td>2024-01-01</td>\n",
       "      <td>WV</td>\n",
       "      <td>NaN</td>\n",
       "    </tr>\n",
       "    <tr>\n",
       "      <th>14403</th>\n",
       "      <td>2024-01-01</td>\n",
       "      <td>WY</td>\n",
       "      <td>NaN</td>\n",
       "    </tr>\n",
       "  </tbody>\n",
       "</table>\n",
       "</div>"
      ],
      "text/plain": [
       "      report_date state  SUM(net_generation_mwh)\n",
       "14399  2024-01-01    VT                      NaN\n",
       "14400  2024-01-01    WA                      NaN\n",
       "14401  2024-01-01    WI                      NaN\n",
       "14402  2024-01-01    WV                      NaN\n",
       "14403  2024-01-01    WY                      NaN"
      ]
     },
     "execution_count": 85,
     "metadata": {},
     "output_type": "execute_result"
    }
   ],
   "source": [
    "# This doesn't currently work\n",
    "pudl_monthly_df = pd.read_sql_query(\"SELECT * FROM monthly_generation_grouped\", conn)\n",
    "pudl_monthly_df.tail()"
   ]
  },
  {
   "cell_type": "code",
   "execution_count": 88,
   "id": "28e45ce6",
   "metadata": {},
   "outputs": [],
   "source": [
    "# Filter out entries with report date '2024-01-01'\n",
    "pudl_monthly_df = pudl_monthly_df[pudl_monthly_df['report_date'] != '2024-01-01']"
   ]
  },
  {
   "cell_type": "code",
   "execution_count": 91,
   "id": "dfc68691",
   "metadata": {},
   "outputs": [],
   "source": [
    "# Convert report_date to datetime\n",
    "pudl_monthly_df['report_date'] = pd.to_datetime(pudl_monthly_df['report_date'])\n",
    "\n",
    "# Filter the DataFrame for entries with report_date after 2018-01-01\n",
    "filtered_pudl_monthly_df = pudl_monthly_df[pudl_monthly_df['report_date'] > '2017-12-01']"
   ]
  },
  {
   "cell_type": "code",
   "execution_count": 95,
   "id": "d8971d47",
   "metadata": {},
   "outputs": [
    {
     "data": {
      "image/png": "[encoded data removed]",
      "text/plain": [
       "<Figure size 640x480 with 1 Axes>"
      ]
     },
     "metadata": {},
     "output_type": "display_data"
    }
   ],
   "source": [
    "import matplotlib.pyplot as plt\n",
    "\n",
    "# Filter the DataFrame for entries where the state is 'VA'\n",
    "va_data = filtered_pudl_monthly_df[filtered_pudl_monthly_df['state'] == 'VA']\n",
    "\n",
    "# Plot the data\n",
    "va_data.plot(x='report_date', y='SUM(net_generation_mwh)', kind='line', marker='o')\n",
    "\n",
    "# Add labels and title\n",
    "plt.xlabel('Report Date')\n",
    "plt.ylabel('Net Generation (MWh)')\n",
    "plt.title('Net Generation MWh Over Time for VA')\n",
    "plt.grid(True)\n",
    "\n",
    "# Show the plot\n",
    "plt.show()"
   ]
  },
  {
   "cell_type": "markdown",
   "id": "b37e55de",
   "metadata": {},
   "source": []
  },
  {
   "cell_type": "code",
   "execution_count": null,
   "id": "5d871b6d",
   "metadata": {},
   "outputs": [],
   "source": [
    "# Different values for type of plant\n",
    "plant_types = pudl_yearly_df['plant_type'].unique()\n",
    "print(\"Different plant types:\", plant_types)\n",
    "\n",
    "# Different values for type of fuel\n",
    "fuel_types = pudl_yearly_df['fuel_type'].unique()\n",
    "print(\"Different fuel types:\", fuel_types)"
   ]
  },
  {
   "cell_type": "code",
   "execution_count": null,
   "id": "d0ea7a3a",
   "metadata": {},
   "outputs": [],
   "source": [
    "# Function to get the schema of a table\n",
    "def get_table_schema(table_name):\n",
    "    schema_query = f\"PRAGMA table_info({table_name});\"\n",
    "    cursor.execute(schema_query)\n",
    "    schema = cursor.fetchall()\n",
    "    return schema\n",
    "\n",
    "# Get schema for each table\n",
    "for table in table_list:\n",
    "    table_name = table[0]\n",
    "    schema = get_table_schema(table_name)\n",
    "    print(f\"Schema for table {table_name}:\")\n",
    "    for column in schema:\n",
    "        print(f\"  {column[1]} ({column[2]})\")\n",
    "    print(\"\\n\")"
   ]
  },
  {
   "cell_type": "code",
   "execution_count": null,
   "id": "46ade8c0",
   "metadata": {},
   "outputs": [],
   "source": [
    "# Query to select the first few rows of the yearly_plant_generation table\n",
    "yearly_plant_generation = pd.read_sql_query(\"SELECT * FROM yearly_plant_generation\", conn)\n",
    "\n",
    "# Display the head of the dataframe\n",
    "yearly_plant_generation.head()"
   ]
  },
  {
   "cell_type": "code",
   "execution_count": null,
   "id": "7ecebf8a",
   "metadata": {},
   "outputs": [],
   "source": [
    "# Group by report_year and state, then sum the net_generation_mwh for each group\n",
    "combined_states_yearly_df = yearly_plant_generation.groupby(['report_year', 'state'])['net_generation_mwh'].sum().reset_index()\n",
    "\n",
    "# Display the combined dataframe\n",
    "combined_states_yearly_df.tail()"
   ]
  },
  {
   "cell_type": "code",
   "execution_count": null,
   "id": "15aa9fc1",
   "metadata": {},
   "outputs": [],
   "source": [
    "# Filter out states with zero net generation\n",
    "filtered_yearly_plant_generation = yearly_plant_generation[yearly_plant_generation['net_generation_mwh'] > 0]\n",
    "\n",
    "# Group by report_year and calculate the mean of net_generation_mwh for each year\n",
    "average_generation_per_year = filtered_yearly_plant_generation.groupby('report_year')['net_generation_mwh'].mean().reset_index()\n",
    "\n",
    "# Display the average generation per year\n",
    "average_generation_per_year"
   ]
  },
  {
   "cell_type": "code",
   "execution_count": null,
   "id": "82689f14",
   "metadata": {},
   "outputs": [],
   "source": [
    "import matplotlib.pyplot as plt\n",
    "\n",
    "# Filter data for the states TX, VA, and NC since 2010\n",
    "states_to_plot = ['TX', 'VA', 'NC']\n",
    "filtered_data = combined_states_yearly_df[(combined_states_yearly_df['state'].isin(states_to_plot)) & (combined_states_yearly_df['report_year'] >= 2010)]\n",
    "\n",
    "# Plot the data for each state\n",
    "for state in states_to_plot:\n",
    "    state_data = filtered_data[filtered_data['state'] == state]\n",
    "    plt.plot(state_data['report_year'], state_data['net_generation_mwh'], marker='o', label=state)\n",
    "\n",
    "# Plot the average generation per year since 2010\n",
    "average_data = average_generation_per_year[average_generation_per_year['report_year'] >= 2010]\n",
    "plt.plot(average_data['report_year'], average_data['net_generation_mwh'], marker='o', linestyle='--', label='Average')\n",
    "\n",
    "# Add labels and title\n",
    "plt.xlabel('Year')\n",
    "plt.ylabel('Net Generation (MWh)')\n",
    "plt.title('Net Generation MWh for TX, VA, NC and Average Since 2010')\n",
    "plt.legend()\n",
    "plt.grid(True)\n",
    "\n",
    "# Set y-axis to logarithmic scale\n",
    "plt.yscale('log')\n",
    "\n",
    "plt.show()"
   ]
  },
  {
   "cell_type": "code",
   "execution_count": null,
   "id": "73a4a8c5",
   "metadata": {},
   "outputs": [],
   "source": [
    "# Query to select entries from yearly_plant_generation where state is VA\n",
    "va_entries_query = \"SELECT * FROM yearly_plant_generation WHERE state = 'VA'\"\n",
    "\n",
    "# Execute the query and store the result in a dataframe\n",
    "va_entries_df = pd.read_sql_query(va_entries_query, conn)\n",
    "\n",
    "# Display the dataframe\n",
    "#va_entries_df"
   ]
  },
  {
   "cell_type": "code",
   "execution_count": null,
   "id": "88e1f67a",
   "metadata": {},
   "outputs": [],
   "source": [
    "# Group the dataframe by report_year and calculate the sum of net_generation_mwh and net_load_mwh for each year\n",
    "grouped_va_entries_df = va_entries_df.groupby('report_year')[['net_generation_mwh', 'net_load_mwh']].sum(numeric_only=True)\n",
    "\n",
    "# Display the grouped dataframe\n",
    "grouped_va_entries_df"
   ]
  },
  {
   "cell_type": "code",
   "execution_count": null,
   "id": "9e8a6a09",
   "metadata": {},
   "outputs": [],
   "source": [
    "import matplotlib.pyplot as plt\n",
    "\n",
    "# Plotting the data\n",
    "grouped_va_entries_df.plot(y=['net_generation_mwh'], kind='line', marker='o')\n",
    "plt.title('Net Generation and Net Load in VA Over Years')\n",
    "plt.xlabel('Year')\n",
    "plt.ylabel('MWh')\n",
    "plt.grid(True)\n",
    "plt.show()"
   ]
  },
  {
   "cell_type": "code",
   "execution_count": null,
   "id": "bb5adfb8",
   "metadata": {},
   "outputs": [],
   "source": [
    "import os\n",
    "import pandas as pd\n",
    "\n",
    "# Define the folder path\n",
    "folder_path = 'data_center_locations'\n",
    "\n",
    "# Initialize an empty list to store dataframes\n",
    "dataframes = []\n",
    "\n",
    "# Loop through all files in the folder\n",
    "for filename in os.listdir(folder_path):\n",
    "    if filename.endswith('.csv'):\n",
    "        file_path = os.path.join(folder_path, filename)\n",
    "        df = pd.read_csv(file_path)\n",
    "        dataframes.append(df)\n",
    "\n",
    "# Concatenate all dataframes into a single dataframe\n",
    "all_locations_df = pd.concat(dataframes, ignore_index=True)\n",
    "\n",
    "# Display the combined dataframe\n",
    "all_locations_df.head()"
   ]
  },
  {
   "cell_type": "code",
   "execution_count": null,
   "id": "0ecdd18f",
   "metadata": {},
   "outputs": [],
   "source": [
    "# Filter the DataFrame to include only North American values\n",
    "north_america_df = all_locations_df[all_locations_df['Continent'] == 'North America']\n",
    "\n",
    "# Display the filtered DataFrame\n",
    "north_america_df"
   ]
  },
  {
   "cell_type": "code",
   "execution_count": null,
   "id": "db44967f",
   "metadata": {},
   "outputs": [],
   "source": [
    "# Extract state values from the Location column\n",
    "all_locations_df['State'] = all_locations_df['Location'].str.extract(r',\\s*([A-Z]{2})\\b')\n",
    "\n",
    "# Display the updated dataframe\n",
    "all_locations_df.head()"
   ]
  },
  {
   "cell_type": "code",
   "execution_count": null,
   "id": "440e4b60",
   "metadata": {},
   "outputs": [],
   "source": []
  }
 ],
 "metadata": {
  "kernelspec": {
   "display_name": "base",
   "language": "python",
   "name": "python3"
  },
  "language_info": {
   "codemirror_mode": {
    "name": "ipython",
    "version": 3
   },
   "file_extension": ".py",
   "mimetype": "text/x-python",
   "name": "python",
   "nbconvert_exporter": "python",
   "pygments_lexer": "ipython3",
   "version": "3.11.7"
  }
 },
 "nbformat": 4,
 "nbformat_minor": 5
}
