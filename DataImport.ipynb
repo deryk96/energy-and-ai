{
 "cells": [
  {
   "cell_type": "markdown",
   "source": [
    "# Getting Data From PUDL\n",
    "Author: Deryk Clary\n",
    "\n",
    "Shows how to import the database aggregated from Kaggle into a Pandas Dataframe.\n",
    "\n",
    "Due to various problems with GitHub and Jupyter Notebooks, I suggest using your own notebook and only use this one as reference."
   ],
   "metadata": {
    "collapsed": false
   },
   "id": "d0ad336f45131d16"
  },
  {
   "cell_type": "code",
   "execution_count": 2,
   "id": "initial_id",
   "metadata": {
    "collapsed": true,
    "ExecuteTime": {
     "end_time": "2024-11-19T02:02:27.160703Z",
     "start_time": "2024-11-19T02:02:26.582124Z"
    }
   },
   "outputs": [],
   "source": [
    "# Import statements\n",
    "import numpy as np\n",
    "import pandas as pd\n",
    "import sqlite3"
   ]
  },
  {
   "cell_type": "markdown",
   "source": [
    "### Connect to database\n",
    "\n",
    "This database was aggregated using a Kaggle notebook. The notebook can be viewed publicly at: https://www.kaggle.com/code/deryk96/pudl-data-curation.\n",
    "From Kaggle, it was downloaded and put into this folder. It is about 15 MB of data."
   ],
   "metadata": {
    "collapsed": false
   },
   "id": "460e2eacae29e5fd"
  },
  {
   "cell_type": "code",
   "outputs": [],
   "source": [
    "# Connecting to sqlite \n",
    "conn = sqlite3.connect('pudl_subset.sqlite')\n",
    "\n",
    "# Creating a cursor object using the cursor() method \n",
    "cursor = conn.cursor()"
   ],
   "metadata": {
    "collapsed": false,
    "ExecuteTime": {
     "end_time": "2024-11-19T07:26:47.799109Z",
     "start_time": "2024-11-19T07:26:47.796793Z"
    }
   },
   "id": "d7b46effb5770b7b",
   "execution_count": 42
  },
  {
   "cell_type": "code",
   "outputs": [
    {
     "name": "stdout",
     "output_type": "stream",
     "text": [
      "[('yearly_plant_generation',), ('monthly_generation_grouped',)]\n"
     ]
    }
   ],
   "source": [
    "# Show all tables in database\n",
    "tables_query = \"\"\"SELECT name FROM sqlite_master  \n",
    "                  WHERE type='table';\"\"\"\n",
    "cursor.execute(tables_query)\n",
    "table_list = cursor.fetchall()\n",
    "print(table_list)"
   ],
   "metadata": {
    "collapsed": false,
    "ExecuteTime": {
     "end_time": "2024-11-19T07:26:48.098635Z",
     "start_time": "2024-11-19T07:26:48.096101Z"
    }
   },
   "id": "58ea359f6fc325d5",
   "execution_count": 43
  },
  {
   "cell_type": "markdown",
   "source": [
    "### Database columns explained\n",
    "Descriptions from: https://data.catalyst.coop/pudl/out_ferc1__yearly_all_plants\n",
    "\n",
    "- report_year: \"Four-digit year in which the data was reported.\"\n",
    "- utility_id_ferc1: \"PUDL-assigned utility ID, identifying a FERC1 utility. This is an auto- incremented ID and is not expected to be stable from year to year.\"\n",
    "- utility_id_pudl: \"A manually assigned PUDL utility ID. May not be stable over time.\"\n",
    "- utility_name_ferc1: \"Name of the responding utility, as it is reported in FERC Form 1. For human readability only.\"\n",
    "- plant_id_pudl: \"A manually assigned PUDL plant ID. May not be constant over time.\"\n",
    "- plant_id_ferc1: \"Algorithmically assigned PUDL FERC Plant ID. WARNING: NOT STABLE BETWEEN PUDL DB INITIALIZATIONS.\"\n",
    "- plant_name_ferc1: \"Name of the plant, as reported to FERC. This is a freeform string, not guaranteed to be consistent across references to the same plant.\"\n",
    "- net_generation_mwh: \"Net electricity generation for the specified period in megawatt-hours (MWh).\"\n",
    "- fuel_cost_per_mwh: \"Derived from MCOE, a unit level value. Average fuel cost per MWh of heat content in nominal USD.\"\n",
    "- plant_type: \"Type of plant.\"\n",
    "- fuel_type: \"Type of fuel.\"\n",
    "- net_load_mwh: \"Net output for load (net generation - energy used for pumping) in megawatt- hours.\""
   ],
   "metadata": {
    "collapsed": false
   },
   "id": "c0cf497bb37c53fe"
  },
  {
   "cell_type": "markdown",
   "source": [
    "### Import database into Pandas dataframe\n",
    "There is currently only one table in the database. This is how you import it into Pandas."
   ],
   "metadata": {
    "collapsed": false
   },
   "id": "5262f3885f201b89"
  },
  {
   "cell_type": "code",
   "outputs": [
    {
     "data": {
      "text/plain": "   report_year  utility_id_ferc1  utility_id_pudl_x utility_name_ferc1  \\\n0         1995               185                 69    Cleco Power LLC   \n1         1996               185                 69    Cleco Power LLC   \n2         1998               185                 69    Cleco Power LLC   \n3         1999               185                 69    Cleco Power LLC   \n4         2001               185                 69    Cleco Power LLC   \n5         2002               185                 69    Cleco Power LLC   \n6         2003               185                 69    Cleco Power LLC   \n7         2004               185                 69    Cleco Power LLC   \n8         2005               185                 69    Cleco Power LLC   \n9         2006               185                 69    Cleco Power LLC   \n\n   plant_id_pudl  plant_id_ferc1 plant_name_ferc1  net_generation_mwh  \\\n0              1          1468.0      dolet hills           2246698.0   \n1              1          1468.0      dolet hills           2040348.0   \n2              1          1468.0      dolet hills           2172549.0   \n3              1          1468.0      dolet hills           1811051.0   \n4              1          1468.0      dolet hills           2268409.0   \n5              1          1468.0      dolet hills           2333010.0   \n6              1          1468.0      dolet hills           2383446.0   \n7              1          1468.0      dolet hills           2339540.0   \n8              1          1468.0      dolet hills           2421296.0   \n9              1          1468.0      dolet hills           2357619.0   \n\n   fuel_cost_per_mwh plant_type  ...       city  county   latitude  longitude  \\\n0          15.078641      steam  ...  Mansfield    None  32.030556 -93.569168   \n1          16.029879      steam  ...  Mansfield    None  32.030556 -93.569168   \n2          16.347895      steam  ...  Mansfield    None  32.030556 -93.569168   \n3          19.006699      steam  ...  Mansfield    None  32.030556 -93.569168   \n4          18.334631      steam  ...  Mansfield    None  32.030556 -93.569168   \n5          15.668375      steam  ...  Mansfield    None  32.030556 -93.569168   \n6          17.464376      steam  ...  Mansfield    None  32.030556 -93.569168   \n7          18.050167      steam  ...  Mansfield    None  32.030556 -93.569168   \n8          18.579205      steam  ...  Mansfield    None  32.030556 -93.569168   \n9          19.655857      steam  ...  Mansfield    None  32.030556 -93.569168   \n\n  state      street_address  zip_code  utility_id_eia utility_name_eia  \\\n0    LA  963 Power Plant Rd     71052          3265.0  Cleco Power LLC   \n1    LA  963 Power Plant Rd     71052          3265.0  Cleco Power LLC   \n2    LA  963 Power Plant Rd     71052          3265.0  Cleco Power LLC   \n3    LA  963 Power Plant Rd     71052          3265.0  Cleco Power LLC   \n4    LA  963 Power Plant Rd     71052          3265.0  Cleco Power LLC   \n5    LA  963 Power Plant Rd     71052          3265.0  Cleco Power LLC   \n6    LA  963 Power Plant Rd     71052          3265.0  Cleco Power LLC   \n7    LA  963 Power Plant Rd     71052          3265.0  Cleco Power LLC   \n8    LA  963 Power Plant Rd     71052          3265.0  Cleco Power LLC   \n9    LA  963 Power Plant Rd     71052          3265.0  Cleco Power LLC   \n\n  utility_id_pudl_y  \n0              69.0  \n1              69.0  \n2              69.0  \n3              69.0  \n4              69.0  \n5              69.0  \n6              69.0  \n7              69.0  \n8              69.0  \n9              69.0  \n\n[10 rows x 24 columns]",
      "text/html": "<div>\n<style scoped>\n    .dataframe tbody tr th:only-of-type {\n        vertical-align: middle;\n    }\n\n    .dataframe tbody tr th {\n        vertical-align: top;\n    }\n\n    .dataframe thead th {\n        text-align: right;\n    }\n</style>\n<table border=\"1\" class=\"dataframe\">\n  <thead>\n    <tr style=\"text-align: right;\">\n      <th></th>\n      <th>report_year</th>\n      <th>utility_id_ferc1</th>\n      <th>utility_id_pudl_x</th>\n      <th>utility_name_ferc1</th>\n      <th>plant_id_pudl</th>\n      <th>plant_id_ferc1</th>\n      <th>plant_name_ferc1</th>\n      <th>net_generation_mwh</th>\n      <th>fuel_cost_per_mwh</th>\n      <th>plant_type</th>\n      <th>...</th>\n      <th>city</th>\n      <th>county</th>\n      <th>latitude</th>\n      <th>longitude</th>\n      <th>state</th>\n      <th>street_address</th>\n      <th>zip_code</th>\n      <th>utility_id_eia</th>\n      <th>utility_name_eia</th>\n      <th>utility_id_pudl_y</th>\n    </tr>\n  </thead>\n  <tbody>\n    <tr>\n      <th>0</th>\n      <td>1995</td>\n      <td>185</td>\n      <td>69</td>\n      <td>Cleco Power LLC</td>\n      <td>1</td>\n      <td>1468.0</td>\n      <td>dolet hills</td>\n      <td>2246698.0</td>\n      <td>15.078641</td>\n      <td>steam</td>\n      <td>...</td>\n      <td>Mansfield</td>\n      <td>None</td>\n      <td>32.030556</td>\n      <td>-93.569168</td>\n      <td>LA</td>\n      <td>963 Power Plant Rd</td>\n      <td>71052</td>\n      <td>3265.0</td>\n      <td>Cleco Power LLC</td>\n      <td>69.0</td>\n    </tr>\n    <tr>\n      <th>1</th>\n      <td>1996</td>\n      <td>185</td>\n      <td>69</td>\n      <td>Cleco Power LLC</td>\n      <td>1</td>\n      <td>1468.0</td>\n      <td>dolet hills</td>\n      <td>2040348.0</td>\n      <td>16.029879</td>\n      <td>steam</td>\n      <td>...</td>\n      <td>Mansfield</td>\n      <td>None</td>\n      <td>32.030556</td>\n      <td>-93.569168</td>\n      <td>LA</td>\n      <td>963 Power Plant Rd</td>\n      <td>71052</td>\n      <td>3265.0</td>\n      <td>Cleco Power LLC</td>\n      <td>69.0</td>\n    </tr>\n    <tr>\n      <th>2</th>\n      <td>1998</td>\n      <td>185</td>\n      <td>69</td>\n      <td>Cleco Power LLC</td>\n      <td>1</td>\n      <td>1468.0</td>\n      <td>dolet hills</td>\n      <td>2172549.0</td>\n      <td>16.347895</td>\n      <td>steam</td>\n      <td>...</td>\n      <td>Mansfield</td>\n      <td>None</td>\n      <td>32.030556</td>\n      <td>-93.569168</td>\n      <td>LA</td>\n      <td>963 Power Plant Rd</td>\n      <td>71052</td>\n      <td>3265.0</td>\n      <td>Cleco Power LLC</td>\n      <td>69.0</td>\n    </tr>\n    <tr>\n      <th>3</th>\n      <td>1999</td>\n      <td>185</td>\n      <td>69</td>\n      <td>Cleco Power LLC</td>\n      <td>1</td>\n      <td>1468.0</td>\n      <td>dolet hills</td>\n      <td>1811051.0</td>\n      <td>19.006699</td>\n      <td>steam</td>\n      <td>...</td>\n      <td>Mansfield</td>\n      <td>None</td>\n      <td>32.030556</td>\n      <td>-93.569168</td>\n      <td>LA</td>\n      <td>963 Power Plant Rd</td>\n      <td>71052</td>\n      <td>3265.0</td>\n      <td>Cleco Power LLC</td>\n      <td>69.0</td>\n    </tr>\n    <tr>\n      <th>4</th>\n      <td>2001</td>\n      <td>185</td>\n      <td>69</td>\n      <td>Cleco Power LLC</td>\n      <td>1</td>\n      <td>1468.0</td>\n      <td>dolet hills</td>\n      <td>2268409.0</td>\n      <td>18.334631</td>\n      <td>steam</td>\n      <td>...</td>\n      <td>Mansfield</td>\n      <td>None</td>\n      <td>32.030556</td>\n      <td>-93.569168</td>\n      <td>LA</td>\n      <td>963 Power Plant Rd</td>\n      <td>71052</td>\n      <td>3265.0</td>\n      <td>Cleco Power LLC</td>\n      <td>69.0</td>\n    </tr>\n    <tr>\n      <th>5</th>\n      <td>2002</td>\n      <td>185</td>\n      <td>69</td>\n      <td>Cleco Power LLC</td>\n      <td>1</td>\n      <td>1468.0</td>\n      <td>dolet hills</td>\n      <td>2333010.0</td>\n      <td>15.668375</td>\n      <td>steam</td>\n      <td>...</td>\n      <td>Mansfield</td>\n      <td>None</td>\n      <td>32.030556</td>\n      <td>-93.569168</td>\n      <td>LA</td>\n      <td>963 Power Plant Rd</td>\n      <td>71052</td>\n      <td>3265.0</td>\n      <td>Cleco Power LLC</td>\n      <td>69.0</td>\n    </tr>\n    <tr>\n      <th>6</th>\n      <td>2003</td>\n      <td>185</td>\n      <td>69</td>\n      <td>Cleco Power LLC</td>\n      <td>1</td>\n      <td>1468.0</td>\n      <td>dolet hills</td>\n      <td>2383446.0</td>\n      <td>17.464376</td>\n      <td>steam</td>\n      <td>...</td>\n      <td>Mansfield</td>\n      <td>None</td>\n      <td>32.030556</td>\n      <td>-93.569168</td>\n      <td>LA</td>\n      <td>963 Power Plant Rd</td>\n      <td>71052</td>\n      <td>3265.0</td>\n      <td>Cleco Power LLC</td>\n      <td>69.0</td>\n    </tr>\n    <tr>\n      <th>7</th>\n      <td>2004</td>\n      <td>185</td>\n      <td>69</td>\n      <td>Cleco Power LLC</td>\n      <td>1</td>\n      <td>1468.0</td>\n      <td>dolet hills</td>\n      <td>2339540.0</td>\n      <td>18.050167</td>\n      <td>steam</td>\n      <td>...</td>\n      <td>Mansfield</td>\n      <td>None</td>\n      <td>32.030556</td>\n      <td>-93.569168</td>\n      <td>LA</td>\n      <td>963 Power Plant Rd</td>\n      <td>71052</td>\n      <td>3265.0</td>\n      <td>Cleco Power LLC</td>\n      <td>69.0</td>\n    </tr>\n    <tr>\n      <th>8</th>\n      <td>2005</td>\n      <td>185</td>\n      <td>69</td>\n      <td>Cleco Power LLC</td>\n      <td>1</td>\n      <td>1468.0</td>\n      <td>dolet hills</td>\n      <td>2421296.0</td>\n      <td>18.579205</td>\n      <td>steam</td>\n      <td>...</td>\n      <td>Mansfield</td>\n      <td>None</td>\n      <td>32.030556</td>\n      <td>-93.569168</td>\n      <td>LA</td>\n      <td>963 Power Plant Rd</td>\n      <td>71052</td>\n      <td>3265.0</td>\n      <td>Cleco Power LLC</td>\n      <td>69.0</td>\n    </tr>\n    <tr>\n      <th>9</th>\n      <td>2006</td>\n      <td>185</td>\n      <td>69</td>\n      <td>Cleco Power LLC</td>\n      <td>1</td>\n      <td>1468.0</td>\n      <td>dolet hills</td>\n      <td>2357619.0</td>\n      <td>19.655857</td>\n      <td>steam</td>\n      <td>...</td>\n      <td>Mansfield</td>\n      <td>None</td>\n      <td>32.030556</td>\n      <td>-93.569168</td>\n      <td>LA</td>\n      <td>963 Power Plant Rd</td>\n      <td>71052</td>\n      <td>3265.0</td>\n      <td>Cleco Power LLC</td>\n      <td>69.0</td>\n    </tr>\n  </tbody>\n</table>\n<p>10 rows × 24 columns</p>\n</div>"
     },
     "execution_count": 44,
     "metadata": {},
     "output_type": "execute_result"
    }
   ],
   "source": [
    "pudl_yearly_df = pd.read_sql_query(\"SELECT * FROM yearly_plant_generation\", conn)\n",
    "pudl_yearly_df.head(10)"
   ],
   "metadata": {
    "collapsed": false,
    "ExecuteTime": {
     "end_time": "2024-11-19T07:26:51.800065Z",
     "start_time": "2024-11-19T07:26:51.417721Z"
    }
   },
   "id": "8f4a1298eaca52fa",
   "execution_count": 44
  },
  {
   "cell_type": "markdown",
   "source": [
    "### Import monthly data into Pandas from database\n",
    "This is likely the data we will use the most"
   ],
   "metadata": {
    "collapsed": false
   },
   "id": "487a978081b73eaa"
  },
  {
   "cell_type": "code",
   "outputs": [
    {
     "data": {
      "text/plain": "  report_date state  SUM(net_generation_mwh)\n0  2001-01-01  None             3.284300e+04\n1  2001-01-01    AK             3.282403e+05\n2  2001-01-01    AL             8.843672e+06\n3  2001-01-01    AR             3.886423e+06\n4  2001-01-01    AZ             6.685144e+06",
      "text/html": "<div>\n<style scoped>\n    .dataframe tbody tr th:only-of-type {\n        vertical-align: middle;\n    }\n\n    .dataframe tbody tr th {\n        vertical-align: top;\n    }\n\n    .dataframe thead th {\n        text-align: right;\n    }\n</style>\n<table border=\"1\" class=\"dataframe\">\n  <thead>\n    <tr style=\"text-align: right;\">\n      <th></th>\n      <th>report_date</th>\n      <th>state</th>\n      <th>SUM(net_generation_mwh)</th>\n    </tr>\n  </thead>\n  <tbody>\n    <tr>\n      <th>0</th>\n      <td>2001-01-01</td>\n      <td>None</td>\n      <td>3.284300e+04</td>\n    </tr>\n    <tr>\n      <th>1</th>\n      <td>2001-01-01</td>\n      <td>AK</td>\n      <td>3.282403e+05</td>\n    </tr>\n    <tr>\n      <th>2</th>\n      <td>2001-01-01</td>\n      <td>AL</td>\n      <td>8.843672e+06</td>\n    </tr>\n    <tr>\n      <th>3</th>\n      <td>2001-01-01</td>\n      <td>AR</td>\n      <td>3.886423e+06</td>\n    </tr>\n    <tr>\n      <th>4</th>\n      <td>2001-01-01</td>\n      <td>AZ</td>\n      <td>6.685144e+06</td>\n    </tr>\n  </tbody>\n</table>\n</div>"
     },
     "execution_count": 45,
     "metadata": {},
     "output_type": "execute_result"
    }
   ],
   "source": [
    "# This doesn't currently work\n",
    "pudl_monthly_df = pd.read_sql_query(\"SELECT * FROM monthly_generation_grouped\", conn)\n",
    "pudl_monthly_df.head()"
   ],
   "metadata": {
    "collapsed": false,
    "ExecuteTime": {
     "end_time": "2024-11-19T07:26:58.330180Z",
     "start_time": "2024-11-19T07:26:58.311831Z"
    }
   },
   "id": "46485b31803d80ef",
   "execution_count": 45
  },
  {
   "cell_type": "code",
   "outputs": [],
   "source": [],
   "metadata": {
    "collapsed": false
   },
   "id": "bc39a657f2c2602f"
  }
 ],
 "metadata": {
  "kernelspec": {
   "display_name": "Python 3",
   "language": "python",
   "name": "python3"
  },
  "language_info": {
   "codemirror_mode": {
    "name": "ipython",
    "version": 2
   },
   "file_extension": ".py",
   "mimetype": "text/x-python",
   "name": "python",
   "nbconvert_exporter": "python",
   "pygments_lexer": "ipython2",
   "version": "2.7.6"
  }
 },
 "nbformat": 4,
 "nbformat_minor": 5
}
