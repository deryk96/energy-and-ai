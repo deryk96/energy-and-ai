{
 "cells": [
  {
   "cell_type": "markdown",
   "source": [
    "# Getting Data From PUDL\n",
    "Author: Deryk Clary\n",
    "\n",
    "Shows how to import the database aggregated from Kaggle into a Pandas Dataframe.\n",
    "\n",
    "Due to various problems with GitHub and Jupyter Notebooks, I suggest using your own notebook and only use this one as reference."
   ],
   "metadata": {
    "collapsed": false
   },
   "id": "d0ad336f45131d16"
  },
  {
   "cell_type": "code",
   "execution_count": 20,
   "id": "initial_id",
   "metadata": {
    "collapsed": true,
    "ExecuteTime": {
     "end_time": "2024-11-18T22:45:33.005561Z",
     "start_time": "2024-11-18T22:45:33.002676Z"
    }
   },
   "outputs": [],
   "source": [
    "# Import statements\n",
    "import numpy as np\n",
    "import pandas as pd\n",
    "import sqlite3"
   ]
  },
  {
   "cell_type": "markdown",
   "source": [
    "### Connect to database\n",
    "\n",
    "This database was aggregated using a Kaggle notebook. The notebook can be viewed publicly at: https://www.kaggle.com/code/deryk96/pudl-data-curation.\n",
    "From Kaggle, it was downloaded and put into this folder. It is about 15 MB of data."
   ],
   "metadata": {
    "collapsed": false
   },
   "id": "460e2eacae29e5fd"
  },
  {
   "cell_type": "code",
   "outputs": [],
   "source": [
    "# Connecting to sqlite \n",
    "conn = sqlite3.connect('pudl_subset.sqlite')\n",
    "\n",
    "# Creating a cursor object using the cursor() method \n",
    "cursor = conn.cursor()"
   ],
   "metadata": {
    "collapsed": false,
    "ExecuteTime": {
     "end_time": "2024-11-18T22:40:56.265268Z",
     "start_time": "2024-11-18T22:40:56.262473Z"
    }
   },
   "id": "d7b46effb5770b7b",
   "execution_count": 17
  },
  {
   "cell_type": "code",
   "outputs": [
    {
     "name": "stdout",
     "output_type": "stream",
     "text": [
      "[('yearly_plant_generation',)]\n"
     ]
    }
   ],
   "source": [
    "# Show all tables in database\n",
    "tables_query = \"\"\"SELECT name FROM sqlite_master  \n",
    "                  WHERE type='table';\"\"\"\n",
    "cursor.execute(tables_query)\n",
    "table_list = cursor.fetchall()\n",
    "print(table_list)"
   ],
   "metadata": {
    "collapsed": false,
    "ExecuteTime": {
     "end_time": "2024-11-18T22:15:01.245400Z",
     "start_time": "2024-11-18T22:15:01.243010Z"
    }
   },
   "id": "58ea359f6fc325d5",
   "execution_count": 15
  },
  {
   "cell_type": "markdown",
   "source": [
    "### Import database into Pandas dataframe\n",
    "There is currently only one table in the database. This is how you import it into Pandas."
   ],
   "metadata": {
    "collapsed": false
   },
   "id": "5262f3885f201b89"
  },
  {
   "cell_type": "code",
   "outputs": [
    {
     "data": {
      "text/plain": "   report_year  utility_id_ferc1  utility_id_pudl_x  \\\n0         2023               155                295   \n1         2023               155                295   \n2         2023               155                295   \n3         2023               155                295   \n4         2023               155                295   \n\n                   utility_name_ferc1  plant_id_pudl  plant_id_ferc1  \\\n0  Southern California Edison Company            430           213.0   \n1  Southern California Edison Company            660           265.0   \n2  Southern California Edison Company            234           468.0   \n3  Southern California Edison Company             31           977.0   \n4  Southern California Edison Company            101          1182.0   \n\n            plant_name_ferc1  net_generation_mwh  fuel_cost_per_mwh  \\\n0  offsite storage pipelines                 NaN                NaN   \n1                      total                 NaN                NaN   \n2           grapeland peaker         3997.729004         117.151512   \n3               barre peaker        20405.318359          82.081200   \n4              center peaker         4275.145996         122.785751   \n\n           plant_type  ...              city          county   latitude  \\\n0                None  ...              None            None        NaN   \n1                None  ...              None            None        NaN   \n2  combustion_turbine  ...  Rancho Cucamonga  San Bernardino  34.090302   \n3  combustion_turbine  ...           Stanton          Orange  33.807301   \n4  combustion_turbine  ...           Norwalk     Los Angeles  33.929600   \n\n    longitude state         street_address  zip_code  utility_id_eia  \\\n0         NaN  None                   None      None             NaN   \n1         NaN  None                   None      None             NaN   \n2 -117.534302    CA       12208 6th Street     91730         17609.0   \n3 -117.983200    CA        10670 Dale Ave.     90680         17609.0   \n4 -118.104599    CA  10639 Firestone Blvd.     90650         17609.0   \n\n                utility_name_eia utility_id_pudl_y  \n0                           None               NaN  \n1                           None               NaN  \n2  Southern California Edison Co             295.0  \n3  Southern California Edison Co             295.0  \n4  Southern California Edison Co             295.0  \n\n[5 rows x 24 columns]",
      "text/html": "<div>\n<style scoped>\n    .dataframe tbody tr th:only-of-type {\n        vertical-align: middle;\n    }\n\n    .dataframe tbody tr th {\n        vertical-align: top;\n    }\n\n    .dataframe thead th {\n        text-align: right;\n    }\n</style>\n<table border=\"1\" class=\"dataframe\">\n  <thead>\n    <tr style=\"text-align: right;\">\n      <th></th>\n      <th>report_year</th>\n      <th>utility_id_ferc1</th>\n      <th>utility_id_pudl_x</th>\n      <th>utility_name_ferc1</th>\n      <th>plant_id_pudl</th>\n      <th>plant_id_ferc1</th>\n      <th>plant_name_ferc1</th>\n      <th>net_generation_mwh</th>\n      <th>fuel_cost_per_mwh</th>\n      <th>plant_type</th>\n      <th>...</th>\n      <th>city</th>\n      <th>county</th>\n      <th>latitude</th>\n      <th>longitude</th>\n      <th>state</th>\n      <th>street_address</th>\n      <th>zip_code</th>\n      <th>utility_id_eia</th>\n      <th>utility_name_eia</th>\n      <th>utility_id_pudl_y</th>\n    </tr>\n  </thead>\n  <tbody>\n    <tr>\n      <th>0</th>\n      <td>2023</td>\n      <td>155</td>\n      <td>295</td>\n      <td>Southern California Edison Company</td>\n      <td>430</td>\n      <td>213.0</td>\n      <td>offsite storage pipelines</td>\n      <td>NaN</td>\n      <td>NaN</td>\n      <td>None</td>\n      <td>...</td>\n      <td>None</td>\n      <td>None</td>\n      <td>NaN</td>\n      <td>NaN</td>\n      <td>None</td>\n      <td>None</td>\n      <td>None</td>\n      <td>NaN</td>\n      <td>None</td>\n      <td>NaN</td>\n    </tr>\n    <tr>\n      <th>1</th>\n      <td>2023</td>\n      <td>155</td>\n      <td>295</td>\n      <td>Southern California Edison Company</td>\n      <td>660</td>\n      <td>265.0</td>\n      <td>total</td>\n      <td>NaN</td>\n      <td>NaN</td>\n      <td>None</td>\n      <td>...</td>\n      <td>None</td>\n      <td>None</td>\n      <td>NaN</td>\n      <td>NaN</td>\n      <td>None</td>\n      <td>None</td>\n      <td>None</td>\n      <td>NaN</td>\n      <td>None</td>\n      <td>NaN</td>\n    </tr>\n    <tr>\n      <th>2</th>\n      <td>2023</td>\n      <td>155</td>\n      <td>295</td>\n      <td>Southern California Edison Company</td>\n      <td>234</td>\n      <td>468.0</td>\n      <td>grapeland peaker</td>\n      <td>3997.729004</td>\n      <td>117.151512</td>\n      <td>combustion_turbine</td>\n      <td>...</td>\n      <td>Rancho Cucamonga</td>\n      <td>San Bernardino</td>\n      <td>34.090302</td>\n      <td>-117.534302</td>\n      <td>CA</td>\n      <td>12208 6th Street</td>\n      <td>91730</td>\n      <td>17609.0</td>\n      <td>Southern California Edison Co</td>\n      <td>295.0</td>\n    </tr>\n    <tr>\n      <th>3</th>\n      <td>2023</td>\n      <td>155</td>\n      <td>295</td>\n      <td>Southern California Edison Company</td>\n      <td>31</td>\n      <td>977.0</td>\n      <td>barre peaker</td>\n      <td>20405.318359</td>\n      <td>82.081200</td>\n      <td>combustion_turbine</td>\n      <td>...</td>\n      <td>Stanton</td>\n      <td>Orange</td>\n      <td>33.807301</td>\n      <td>-117.983200</td>\n      <td>CA</td>\n      <td>10670 Dale Ave.</td>\n      <td>90680</td>\n      <td>17609.0</td>\n      <td>Southern California Edison Co</td>\n      <td>295.0</td>\n    </tr>\n    <tr>\n      <th>4</th>\n      <td>2023</td>\n      <td>155</td>\n      <td>295</td>\n      <td>Southern California Edison Company</td>\n      <td>101</td>\n      <td>1182.0</td>\n      <td>center peaker</td>\n      <td>4275.145996</td>\n      <td>122.785751</td>\n      <td>combustion_turbine</td>\n      <td>...</td>\n      <td>Norwalk</td>\n      <td>Los Angeles</td>\n      <td>33.929600</td>\n      <td>-118.104599</td>\n      <td>CA</td>\n      <td>10639 Firestone Blvd.</td>\n      <td>90650</td>\n      <td>17609.0</td>\n      <td>Southern California Edison Co</td>\n      <td>295.0</td>\n    </tr>\n  </tbody>\n</table>\n<p>5 rows × 24 columns</p>\n</div>"
     },
     "execution_count": 19,
     "metadata": {},
     "output_type": "execute_result"
    }
   ],
   "source": [
    "pudl_df = pd.read_sql_query(\"SELECT * FROM yearly_plant_generation\", conn)\n",
    "pudl_df.head()"
   ],
   "metadata": {
    "collapsed": false,
    "ExecuteTime": {
     "end_time": "2024-11-18T22:41:56.199412Z",
     "start_time": "2024-11-18T22:41:55.807015Z"
    }
   },
   "id": "8f4a1298eaca52fa",
   "execution_count": 19
  },
  {
   "cell_type": "code",
   "outputs": [],
   "source": [],
   "metadata": {
    "collapsed": false
   },
   "id": "4746e53b923b38e0"
  }
 ],
 "metadata": {
  "kernelspec": {
   "display_name": "Python 3",
   "language": "python",
   "name": "python3"
  },
  "language_info": {
   "codemirror_mode": {
    "name": "ipython",
    "version": 2
   },
   "file_extension": ".py",
   "mimetype": "text/x-python",
   "name": "python",
   "nbconvert_exporter": "python",
   "pygments_lexer": "ipython2",
   "version": "2.7.6"
  }
 },
 "nbformat": 4,
 "nbformat_minor": 5
}
